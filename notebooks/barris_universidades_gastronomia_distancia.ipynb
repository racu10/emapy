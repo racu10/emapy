{
 "cells": [
  {
   "cell_type": "code",
   "execution_count": 1,
   "metadata": {
    "collapsed": true
   },
   "outputs": [],
   "source": [
    "import emapy as epy\n",
    "import sys;\n",
    "import pandas as pd"
   ]
  },
  {
   "cell_type": "code",
   "execution_count": 2,
   "metadata": {
    "collapsed": true
   },
   "outputs": [],
   "source": [
    "barris = epy.getDatabase(\n",
    "    'barris',\n",
    "    'json',\n",
    "    '../data/raw/barris.geojson',\n",
    "    '',\n",
    "    True,\n",
    "    0,\n",
    "    1,\n",
    "    'cartodb_id')  "
   ]
  },
  {
   "cell_type": "code",
   "execution_count": 3,
   "metadata": {
    "collapsed": true
   },
   "outputs": [],
   "source": [
    "csvFile = '../data/external/densidadPoblacion/superficie-dens2015.csv'\n",
    "csvData = epy.getDataOfCsv(\n",
    "                csvFile, \n",
    "                \";\"\n",
    ")\n",
    "dataSize = len(csvData)\n",
    "barrisSize = len(barris[1])\n",
    "allBarris = barris[1]"
   ]
  },
  {
   "cell_type": "code",
   "execution_count": 4,
   "metadata": {
    "collapsed": true
   },
   "outputs": [],
   "source": [
    "for index, row in csvData.iterrows():\n",
    "    csvData.set_value(\n",
    "        index, \n",
    "        'Barris', \n",
    "        epy.removeIntInxString(\n",
    "            csvData.get_value(index, 'Barris'), \n",
    "            '.').lower())"
   ]
  },
  {
   "cell_type": "code",
   "execution_count": 5,
   "metadata": {
    "collapsed": true
   },
   "outputs": [],
   "source": [
    "df = pd.DataFrame({'id' : [], 'data': []})\n",
    "allId = dict()\n",
    "\n",
    "for x in range(barrisSize):\n",
    "    key = allBarris[x]['geometry']['properties']['cartodb_id']\n",
    "    name = allBarris[x]['geometry']['properties']['neighbourhood']\n",
    "    for index, row in csvData.iterrows():\n",
    "        if csvData.iloc[index][1].strip().lower() == name.strip().lower():\n",
    "            csvNameData = csvData.iloc[index][1]    \n",
    "            if key in allId:\n",
    "                allId[key] = -1\n",
    "            else:\n",
    "                num = csvData.iloc[index][u'Població']\n",
    "                if epy.is_number(num) == False:                   \n",
    "                    num = num.replace('.', '')\n",
    "                    num = float(num.replace(',', '.'))\n",
    "                else:\n",
    "                    num = str(num).replace('.', '')\n",
    "                    num = float(num.replace(',', '.'))\n",
    "                allId[key] = num\n",
    "                \n",
    "for x in range(barrisSize):\n",
    "    key = allBarris[x]['geometry']['properties']['cartodb_id']\n",
    "    if key in allId:\n",
    "        row = [key, allId[key] * 1.0]  \n",
    "        df.loc[len(df), ['id', 'data']] = row  \n",
    "    else:\n",
    "        df.loc[len(df), ['id', 'data']] = [key,0]"
   ]
  },
  {
   "cell_type": "code",
   "execution_count": 6,
   "metadata": {
    "collapsed": true
   },
   "outputs": [],
   "source": [
    "map = epy.mapCreation(41.388790,2.158990)\n",
    "epy.mapChoropleth(map, \n",
    "                 '../data/raw/barris.geojson',\n",
    "                 'feature.properties.cartodb_id',\n",
    "                 df,\n",
    "                 'id',\n",
    "                 'data',\n",
    "                 'YlGn',\n",
    "                 0.7,\n",
    "                 0.3,\n",
    "                 [0, 10000, 20000, 37000, 50000, 60000],\n",
    "                 'bars / barri')\n"
   ]
  },
  {
   "cell_type": "code",
   "execution_count": 7,
   "metadata": {
    "collapsed": false
   },
   "outputs": [],
   "source": [
    "locationAreaBoundingBox = (41.3248770036,2.0520401001,41.4829908452,2.2813796997)\n",
    "allBars = epy.getDatabaseFromOSM(\n",
    "    'bares', \n",
    "    'amenity',\n",
    "    False,\n",
    "    True, \n",
    "    locationAreaBoundingBox, \n",
    "    'bar')\n",
    "\n",
    "allRestaurants = epy.getDatabaseFromOSM(\n",
    "    'restaurants', \n",
    "    'amenity',\n",
    "    False,\n",
    "    True, \n",
    "    locationAreaBoundingBox, \n",
    "    'restaurant')\n",
    "\n",
    "allFastFood = epy.getDatabaseFromOSM(\n",
    "    'fast food', \n",
    "    'amenity',\n",
    "    False,\n",
    "    True, \n",
    "    locationAreaBoundingBox, \n",
    "    'fast_food')\n",
    "\n",
    "\n",
    "allUniv = epy.getDatabaseFromOSM(\n",
    "    'universidades', \n",
    "    'amenity',\n",
    "    False,\n",
    "    True, \n",
    "    locationAreaBoundingBox, \n",
    "    'university')"
   ]
  },
  {
   "cell_type": "code",
   "execution_count": 8,
   "metadata": {
    "collapsed": false
   },
   "outputs": [],
   "source": [
    "#Add universities\n",
    "epy.mapAddStructureSimpleMarker(map, allUniv, 'glyphicon-home', 'blue', 'name')"
   ]
  },
  {
   "cell_type": "code",
   "execution_count": 9,
   "metadata": {
    "collapsed": false
   },
   "outputs": [],
   "source": [
    "distance = 1\n",
    "barsNear = [data \n",
    "     for uni in allUniv for data in allBars \n",
    "     if epy.getDistanceInKm(uni[\"geometry\"][0], \n",
    "                               uni[\"geometry\"][1],\n",
    "                               data[\"geometry\"][0], \n",
    "                               data[\"geometry\"][1]) < distance]\n",
    "restaurants = [data \n",
    "     for uni in allUniv for data in allRestaurants \n",
    "     if epy.getDistanceInKm(uni[\"geometry\"][0], \n",
    "                               uni[\"geometry\"][1],\n",
    "                               data[\"geometry\"][0], \n",
    "                               data[\"geometry\"][1]) < distance]\n",
    "\n",
    "fastFoodBars = [data \n",
    "     for uni in allUniv for data in allFastFood \n",
    "     if epy.getDistanceInKm(uni[\"geometry\"][0], \n",
    "                               uni[\"geometry\"][1],\n",
    "                               data[\"geometry\"][0], \n",
    "                               data[\"geometry\"][1]) < distance]"
   ]
  },
  {
   "cell_type": "code",
   "execution_count": 10,
   "metadata": {
    "collapsed": true
   },
   "outputs": [],
   "source": [
    "epy.mapAddStructureSimpleMarker(map, barsNear, 'glyphicon-glass', 'black', 'name')\n",
    "epy.mapAddStructureSimpleMarker(map, restaurants, 'glyphicon-cutlery', 'green', 'name')\n",
    "epy.mapAddStructureSimpleMarker(map, fastFoodBars, 'glyphicon-asterisk', 'red', 'name')\n"
   ]
  },
  {
   "cell_type": "code",
   "execution_count": 11,
   "metadata": {
    "collapsed": false
   },
   "outputs": [],
   "source": [
    "epy.mapSave(map, '../reports/maps/universistyAndGastronomy.html')"
   ]
  },
  {
   "cell_type": "code",
   "execution_count": null,
   "metadata": {
    "collapsed": false
   },
   "outputs": [],
   "source": []
  },
  {
   "cell_type": "code",
   "execution_count": null,
   "metadata": {
    "collapsed": false
   },
   "outputs": [],
   "source": []
  },
  {
   "cell_type": "code",
   "execution_count": null,
   "metadata": {
    "collapsed": false
   },
   "outputs": [],
   "source": []
  },
  {
   "cell_type": "code",
   "execution_count": null,
   "metadata": {
    "collapsed": false
   },
   "outputs": [],
   "source": []
  },
  {
   "cell_type": "code",
   "execution_count": null,
   "metadata": {
    "collapsed": false
   },
   "outputs": [],
   "source": []
  },
  {
   "cell_type": "code",
   "execution_count": null,
   "metadata": {
    "collapsed": true
   },
   "outputs": [],
   "source": []
  }
 ],
 "metadata": {
  "anaconda-cloud": {},
  "kernelspec": {
   "display_name": "Python [default]",
   "language": "python",
   "name": "python2"
  },
  "language_info": {
   "codemirror_mode": {
    "name": "ipython",
    "version": 2
   },
   "file_extension": ".py",
   "mimetype": "text/x-python",
   "name": "python",
   "nbconvert_exporter": "python",
   "pygments_lexer": "ipython2",
   "version": "2.7.12"
  }
 },
 "nbformat": 4,
 "nbformat_minor": 1
}
