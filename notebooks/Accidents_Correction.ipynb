{
 "cells": [
  {
   "cell_type": "code",
   "execution_count": 9,
   "metadata": {
    "collapsed": false
   },
   "outputs": [
    {
     "ename": "SyntaxError",
     "evalue": "invalid syntax (<ipython-input-9-a10ce637eb68>, line 1)",
     "output_type": "error",
     "traceback": [
      "\u001b[0;36m  File \u001b[0;32m\"<ipython-input-9-a10ce637eb68>\"\u001b[0;36m, line \u001b[0;32m1\u001b[0m\n\u001b[0;31m    from '../src' import emapy as epy\u001b[0m\n\u001b[0m                ^\u001b[0m\n\u001b[0;31mSyntaxError\u001b[0m\u001b[0;31m:\u001b[0m invalid syntax\n"
     ]
    }
   ],
   "source": [
    "from '../src' import emapy as epy\n",
    "import sys;"
   ]
  },
  {
   "cell_type": "code",
   "execution_count": null,
   "metadata": {
    "collapsed": false
   },
   "outputs": [],
   "source": [
    "locationAreaBoundingBox = (41.3248770036,2.0520401001,41.4829908452,2.2813796997)"
   ]
  },
  {
   "cell_type": "code",
   "execution_count": null,
   "metadata": {
    "collapsed": true
   },
   "outputs": [],
   "source": [
    "zone = 31"
   ]
  },
  {
   "cell_type": "code",
   "execution_count": null,
   "metadata": {
    "collapsed": true
   },
   "outputs": [],
   "source": [
    "anio = 2015\n",
    "csvFile = '../data/external/accidents/ACCIDENTS_GU_BCN_' + str(anio) + str('.csv')\n",
    "data = epy.getDatabase(\"accidents\", \n",
    "                \"csv\", \n",
    "                csvFile, \n",
    "                \";\", \n",
    "                False, \n",
    "                -1, \n",
    "                -2, \n",
    "                '', \n",
    "                True, \n",
    "                True, \n",
    "                zone,\n",
    "                True)\n",
    "allData = data[1]\n",
    "dataSize = len(data[1])"
   ]
  },
  {
   "cell_type": "code",
   "execution_count": null,
   "metadata": {
    "collapsed": true
   },
   "outputs": [],
   "source": [
    "allStreets = epy.getDatabaseFromOSM('streetsBarcelona', 'way', False, True,locationAreaBoundingBox, '')"
   ]
  },
  {
   "cell_type": "code",
   "execution_count": null,
   "metadata": {
    "collapsed": true
   },
   "outputs": [],
   "source": [
    "map = epy.mapCreation(41.388790,2.158990)"
   ]
  },
  {
   "cell_type": "code",
   "execution_count": null,
   "metadata": {
    "collapsed": false
   },
   "outputs": [],
   "source": [
    "cluster = epy.mapWithMarkerCluster(map, \"Accidents Barcelona\")    "
   ]
  },
  {
   "cell_type": "code",
   "execution_count": null,
   "metadata": {
    "collapsed": false
   },
   "outputs": [],
   "source": [
    "porc = 0\n",
    "porcSee = 0\n",
    "clor = 'blue'\n",
    "\n",
    "for x in range(dataSize):\n",
    "    death = allData[x]['properties'][u'Número de morts']\n",
    "    minor = allData[x]['properties'][u'Número de lesionats lleus']\n",
    "    serious = allData[x]['properties'][u'Número de lesionats greus']\n",
    "\n",
    "    day = allData[x]['properties'][u'Dia de mes']\n",
    "    month = allData[x]['properties'][u'Mes de any']\n",
    "    year = allData[x]['properties'][u'NK Any']\n",
    "\n",
    "    streetName = allData[x]['properties'][u'Nom carrer']\n",
    "\n",
    "    description = allData[x]['properties'][u'Descripció causa vianant']\n",
    "    lon = allData[x]['geometry'][0]\n",
    "    lat = allData[x]['geometry'][1]\n",
    "    \n",
    "    greatLoc = epy.fromAllStreetsGetWithStreetNameTheLocationMostNear(allStreets, streetName, lon, lat)\n",
    "    \n",
    "    if int(death) > 0:\n",
    "        clor = 'black'\n",
    "    elif int(serious) > 0:\n",
    "        clor = 'red'\n",
    "    elif int(minor) > 0:\n",
    "        clor = 'green'\n",
    "    else:\n",
    "        clor = 'blue'\n",
    "\n",
    "    text = \"Dia: \"+ str(day) + '/' + str(month) + '/' + str(year) + '</br>' + 'Descripción: ' + description\n",
    "    \n",
    "    epy.mapAddMarkerToCluster(cluster, greatLoc[0], greatLoc[1], 'glyphicon-plus', clor, text)\n",
    "    l = ( porc * 1.0 / dataSize * 1.0) * 100\n",
    "    if l > porcSee:\n",
    "        print l\n",
    "        porcSee += 10\n",
    "    porc += 1\n",
    "  \n",
    "    "
   ]
  },
  {
   "cell_type": "code",
   "execution_count": null,
   "metadata": {
    "collapsed": false
   },
   "outputs": [],
   "source": [
    "epy.mapSave(map, '../reports/maps/Accidents_correction.html')"
   ]
  },
  {
   "cell_type": "code",
   "execution_count": null,
   "metadata": {
    "collapsed": false
   },
   "outputs": [],
   "source": []
  },
  {
   "cell_type": "code",
   "execution_count": null,
   "metadata": {
    "collapsed": false
   },
   "outputs": [],
   "source": []
  },
  {
   "cell_type": "code",
   "execution_count": null,
   "metadata": {
    "collapsed": false
   },
   "outputs": [],
   "source": [
    "    "
   ]
  },
  {
   "cell_type": "code",
   "execution_count": null,
   "metadata": {
    "collapsed": false
   },
   "outputs": [],
   "source": []
  },
  {
   "cell_type": "code",
   "execution_count": null,
   "metadata": {
    "collapsed": false
   },
   "outputs": [],
   "source": []
  },
  {
   "cell_type": "code",
   "execution_count": null,
   "metadata": {
    "collapsed": true
   },
   "outputs": [],
   "source": []
  },
  {
   "cell_type": "code",
   "execution_count": null,
   "metadata": {
    "collapsed": true
   },
   "outputs": [],
   "source": []
  },
  {
   "cell_type": "code",
   "execution_count": null,
   "metadata": {
    "collapsed": true
   },
   "outputs": [],
   "source": []
  },
  {
   "cell_type": "code",
   "execution_count": null,
   "metadata": {
    "collapsed": true
   },
   "outputs": [],
   "source": []
  },
  {
   "cell_type": "code",
   "execution_count": null,
   "metadata": {
    "collapsed": true
   },
   "outputs": [],
   "source": []
  },
  {
   "cell_type": "code",
   "execution_count": null,
   "metadata": {
    "collapsed": true
   },
   "outputs": [],
   "source": []
  },
  {
   "cell_type": "code",
   "execution_count": null,
   "metadata": {
    "collapsed": true
   },
   "outputs": [],
   "source": []
  },
  {
   "cell_type": "code",
   "execution_count": null,
   "metadata": {
    "collapsed": true
   },
   "outputs": [],
   "source": []
  },
  {
   "cell_type": "code",
   "execution_count": null,
   "metadata": {
    "collapsed": true
   },
   "outputs": [],
   "source": []
  },
  {
   "cell_type": "code",
   "execution_count": null,
   "metadata": {
    "collapsed": true
   },
   "outputs": [],
   "source": []
  }
 ],
 "metadata": {
  "anaconda-cloud": {},
  "kernelspec": {
   "display_name": "Python [conda root]",
   "language": "python",
   "name": "conda-root-py"
  },
  "language_info": {
   "codemirror_mode": {
    "name": "ipython",
    "version": 2
   },
   "file_extension": ".py",
   "mimetype": "text/x-python",
   "name": "python",
   "nbconvert_exporter": "python",
   "pygments_lexer": "ipython2",
   "version": "2.7.12"
  }
 },
 "nbformat": 4,
 "nbformat_minor": 1
}
